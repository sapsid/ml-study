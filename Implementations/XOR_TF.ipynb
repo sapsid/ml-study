{
  "nbformat": 4,
  "nbformat_minor": 0,
  "metadata": {
    "colab": {
      "name": "XOR TF.ipynb",
      "provenance": [],
      "collapsed_sections": [],
      "authorship_tag": "ABX9TyPIJC8RnnQvZX/Fa4trR2/k",
      "include_colab_link": true
    },
    "kernelspec": {
      "name": "python3",
      "display_name": "Python 3"
    }
  },
  "cells": [
    {
      "cell_type": "markdown",
      "metadata": {
        "id": "view-in-github",
        "colab_type": "text"
      },
      "source": [
        "<a href=\"https://colab.research.google.com/github/sapsid/ml-study/blob/master/Implementations/XOR_TF.ipynb\" target=\"_parent\"><img src=\"https://colab.research.google.com/assets/colab-badge.svg\" alt=\"Open In Colab\"/></a>"
      ]
    },
    {
      "cell_type": "code",
      "metadata": {
        "id": "7UY4NkICp_yQ"
      },
      "source": [
        "import tensorflow as tf\r\n",
        "import numpy as np\r\n",
        "from matplotlib import pyplot as plt"
      ],
      "execution_count": 1,
      "outputs": []
    },
    {
      "cell_type": "code",
      "metadata": {
        "id": "MIM3-vsyqJR6"
      },
      "source": [
        "X = np.array([[0,0], [0,1], [1,0], [1,1]])\r\n",
        "y = np.array([[0], [1], [1], [0]])"
      ],
      "execution_count": 2,
      "outputs": []
    },
    {
      "cell_type": "code",
      "metadata": {
        "colab": {
          "base_uri": "https://localhost:8080/"
        },
        "id": "sVSfpXZ3q12s",
        "outputId": "fad66c68-2c43-40f4-ac38-c613c65b24b7"
      },
      "source": [
        "X.shape"
      ],
      "execution_count": 3,
      "outputs": [
        {
          "output_type": "execute_result",
          "data": {
            "text/plain": [
              "(4, 2)"
            ]
          },
          "metadata": {
            "tags": []
          },
          "execution_count": 3
        }
      ]
    },
    {
      "cell_type": "markdown",
      "metadata": {
        "id": "sz0F2YkkNu84"
      },
      "source": [
        "### Using ADAM optimizer ###"
      ]
    },
    {
      "cell_type": "code",
      "metadata": {
        "id": "wMUjRR24qVDL"
      },
      "source": [
        "model = tf.keras.Sequential([\r\n",
        "    tf.keras.Input(shape=(2,)),\r\n",
        "    tf.keras.layers.Dense(2, activation='sigmoid'),\r\n",
        "    tf.keras.layers.Dense(1, activation='sigmoid')\r\n",
        "])\r\n",
        "optimizer = tf.keras.optimizers.Adam(lr=0.01)\r\n",
        "model.compile(optimizer=optimizer,\r\n",
        "              loss=\"mean_squared_error\",\r\n",
        "              metrics=['accuracy'])\r\n",
        "hist = model.fit(X,y, epochs=2000)"
      ],
      "execution_count": null,
      "outputs": []
    },
    {
      "cell_type": "code",
      "metadata": {
        "colab": {
          "base_uri": "https://localhost:8080/",
          "height": 282
        },
        "id": "PZsNBeLova44",
        "outputId": "4c2fe972-c7d0-41e4-c5f9-9053db526d2d"
      },
      "source": [
        "plt.plot(hist.history['loss'])"
      ],
      "execution_count": 6,
      "outputs": [
        {
          "output_type": "execute_result",
          "data": {
            "text/plain": [
              "[<matplotlib.lines.Line2D at 0x7f9ddaa9f4a8>]"
            ]
          },
          "metadata": {
            "tags": []
          },
          "execution_count": 6
        },
        {
          "output_type": "display_data",
          "data": {
            "image/png": "[encoded data removed]",
            "text/plain": [
              "<Figure size 432x288 with 1 Axes>"
            ]
          },
          "metadata": {
            "tags": [],
            "needs_background": "light"
          }
        }
      ]
    },
    {
      "cell_type": "code",
      "metadata": {
        "colab": {
          "base_uri": "https://localhost:8080/"
        },
        "id": "fzIX4ykOsMhl",
        "outputId": "79159376-c172-4a1f-86a4-b1fb53297da2"
      },
      "source": [
        "test_loss, test_acc = model.evaluate(X,  y, verbose=2)\r\n",
        "print(test_loss, test_acc)"
      ],
      "execution_count": 7,
      "outputs": [
        {
          "output_type": "stream",
          "text": [
            "1/1 - 0s - loss: 9.8596e-04 - accuracy: 1.0000\n",
            "0.0009859553538262844 1.0\n"
          ],
          "name": "stdout"
        }
      ]
    },
    {
      "cell_type": "code",
      "metadata": {
        "colab": {
          "base_uri": "https://localhost:8080/"
        },
        "id": "2b2sMpaItBXt",
        "outputId": "bb1b6206-5ede-4959-fbb3-150e25e6b89e"
      },
      "source": [
        "print (model.predict(X))"
      ],
      "execution_count": 8,
      "outputs": [
        {
          "output_type": "stream",
          "text": [
            "[[0.02698213]\n",
            " [0.96909684]\n",
            " [0.96602976]\n",
            " [0.03326866]]\n"
          ],
          "name": "stdout"
        }
      ]
    },
    {
      "cell_type": "markdown",
      "metadata": {
        "id": "BgWF_yDVNcxZ"
      },
      "source": [
        "## Using SGD as optimizer ##"
      ]
    },
    {
      "cell_type": "code",
      "metadata": {
        "id": "0Bl4dpgXLKja"
      },
      "source": [
        "model = tf.keras.Sequential([\r\n",
        "    tf.keras.Input(shape=(2,)),\r\n",
        "    tf.keras.layers.Dense(2, activation='sigmoid'),\r\n",
        "    tf.keras.layers.Dense(1, activation='sigmoid')\r\n",
        "])\r\n",
        "optimizer = tf.keras.optimizers.SGD(lr=0.5)\r\n",
        "model.compile(optimizer=optimizer,\r\n",
        "              loss=\"mean_squared_error\",\r\n",
        "              metrics=['accuracy'])\r\n",
        "hist = model.fit(X,y, epochs=3000)"
      ],
      "execution_count": null,
      "outputs": []
    },
    {
      "cell_type": "code",
      "metadata": {
        "id": "dHZ82eisMDG7",
        "colab": {
          "base_uri": "https://localhost:8080/",
          "height": 282
        },
        "outputId": "19d9c035-22be-4f9d-a2da-13d7d0f082d0"
      },
      "source": [
        "plt.plot(hist.history['loss'])"
      ],
      "execution_count": 10,
      "outputs": [
        {
          "output_type": "execute_result",
          "data": {
            "text/plain": [
              "[<matplotlib.lines.Line2D at 0x7f9ddb2bf828>]"
            ]
          },
          "metadata": {
            "tags": []
          },
          "execution_count": 10
        },
        {
          "output_type": "display_data",
          "data": {
            "image/png": "[encoded data removed]",
            "text/plain": [
              "<Figure size 432x288 with 1 Axes>"
            ]
          },
          "metadata": {
            "tags": [],
            "needs_background": "light"
          }
        }
      ]
    },
    {
      "cell_type": "code",
      "metadata": {
        "colab": {
          "base_uri": "https://localhost:8080/"
        },
        "id": "7ayLy-5CNX3o",
        "outputId": "4b62f124-12e8-4166-a693-52e34a4ed9de"
      },
      "source": [
        "test_loss, test_acc = model.evaluate(X,  y, verbose=2)\r\n",
        "print(test_loss, test_acc)"
      ],
      "execution_count": 11,
      "outputs": [
        {
          "output_type": "stream",
          "text": [
            "1/1 - 0s - loss: 0.0049 - accuracy: 1.0000\n",
            "0.004891922231763601 1.0\n"
          ],
          "name": "stdout"
        }
      ]
    },
    {
      "cell_type": "code",
      "metadata": {
        "colab": {
          "base_uri": "https://localhost:8080/"
        },
        "id": "eON2I23-NZ_o",
        "outputId": "a576e101-c866-4bd6-d574-1276385dda9b"
      },
      "source": [
        "print(model.predict(X))"
      ],
      "execution_count": 12,
      "outputs": [
        {
          "output_type": "stream",
          "text": [
            "[[0.07190475]\n",
            " [0.93264806]\n",
            " [0.9328331 ]\n",
            " [0.07314175]]\n"
          ],
          "name": "stdout"
        }
      ]
    }
  ]
}